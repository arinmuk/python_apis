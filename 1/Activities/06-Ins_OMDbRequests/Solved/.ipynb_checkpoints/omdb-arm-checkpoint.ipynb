{
 "cells": [
  {
   "cell_type": "code",
   "execution_count": 12,
   "metadata": {},
   "outputs": [],
   "source": [
    "import requests\n",
    "import json\n",
    "import matplotlib.pyplot as plt\n",
    "import matplotlib.image as mpimg\n",
    "from IPython.display import Image"
   ]
  },
  {
   "cell_type": "code",
   "execution_count": 13,
   "metadata": {},
   "outputs": [],
   "source": [
    "# New Dependency! Use this to pretty print the JSON\n",
    "# https://docs.python.org/3/library/pprint.html\n",
    "from pprint import pprint"
   ]
  },
  {
   "cell_type": "code",
   "execution_count": 14,
   "metadata": {},
   "outputs": [],
   "source": [
    "# Note that the ?t= is a query param for the t-itle of the\n",
    "# movie we want to search for.\n",
    "url = \"http://www.omdbapi.com/?t=\"\n",
    "api_key = \"&apikey=trilogy\""
   ]
  },
  {
   "cell_type": "code",
   "execution_count": 15,
   "metadata": {},
   "outputs": [
    {
     "name": "stdout",
     "output_type": "stream",
     "text": [
      "http://www.omdbapi.com/?t=Aliens&apikey=trilogy\n"
     ]
    }
   ],
   "source": [
    "# Performing a GET request similar to the one we executed\n",
    "# earlier\n",
    "response = requests.get(url + \"Aliens\" + api_key)\n",
    "print(response.url)"
   ]
  },
  {
   "cell_type": "code",
   "execution_count": 16,
   "metadata": {},
   "outputs": [
    {
     "name": "stdout",
     "output_type": "stream",
     "text": [
      "{'Actors': 'Sigourney Weaver, Carrie Henn, Michael Biehn, Paul Reiser',\n",
      " 'Awards': 'Won 2 Oscars. Another 18 wins & 22 nominations.',\n",
      " 'BoxOffice': 'N/A',\n",
      " 'Country': 'USA',\n",
      " 'DVD': '01 Jun 1999',\n",
      " 'Director': 'James Cameron',\n",
      " 'Genre': 'Action, Adventure, Sci-Fi, Thriller',\n",
      " 'Language': 'English',\n",
      " 'Metascore': '84',\n",
      " 'Plot': 'Ellen Ripley is rescued by a deep salvage team after being in '\n",
      "         'hypersleep for 57 years. The moon that the Nostromo visited has been '\n",
      "         'colonized, but contact is lost. This time, colonial marines have '\n",
      "         'impressive firepower, but will that be enough?',\n",
      " 'Poster': 'https://m.media-amazon.com/images/M/MV5BZGU2OGY5ZTYtMWNhYy00NjZiLWI0NjUtZmNhY2JhNDRmODU3XkEyXkFqcGdeQXVyNzkwMjQ5NzM@._V1_SX300.jpg',\n",
      " 'Production': '20th Century Fox Film Corporat',\n",
      " 'Rated': 'R',\n",
      " 'Ratings': [{'Source': 'Internet Movie Database', 'Value': '8.4/10'},\n",
      "             {'Source': 'Rotten Tomatoes', 'Value': '99%'},\n",
      "             {'Source': 'Metacritic', 'Value': '84/100'}],\n",
      " 'Released': '18 Jul 1986',\n",
      " 'Response': 'True',\n",
      " 'Runtime': '137 min',\n",
      " 'Title': 'Aliens',\n",
      " 'Type': 'movie',\n",
      " 'Website': 'N/A',\n",
      " 'Writer': 'James Cameron (story by), David Giler (story by), Walter Hill '\n",
      "           \"(story by), Dan O'Bannon (based on characters created by), Ronald \"\n",
      "           'Shusett (based on characters created by), James Cameron '\n",
      "           '(screenplay by)',\n",
      " 'Year': '1986',\n",
      " 'imdbID': 'tt0090605',\n",
      " 'imdbRating': '8.4',\n",
      " 'imdbVotes': '581,749'}\n"
     ]
    }
   ],
   "source": [
    "# Converting the response to JSON, and printing the result.\n",
    "data = response.json()\n",
    "pprint(data)"
   ]
  },
  {
   "cell_type": "code",
   "execution_count": 17,
   "metadata": {},
   "outputs": [
    {
     "name": "stdout",
     "output_type": "stream",
     "text": [
      "Movie was directed by James Cameron.\n",
      "Movie was released in USA.\n"
     ]
    }
   ],
   "source": [
    "# Print a few keys from the response JSON.\n",
    "print(f\"Movie was directed by {data['Director']}.\")\n",
    "print(f\"Movie was released in {data['Country']}.\")"
   ]
  },
  {
   "cell_type": "code",
   "execution_count": 18,
   "metadata": {},
   "outputs": [
    {
     "name": "stdout",
     "output_type": "stream",
     "text": [
      "https://m.media-amazon.com/images/M/MV5BZGU2OGY5ZTYtMWNhYy00NjZiLWI0NjUtZmNhY2JhNDRmODU3XkEyXkFqcGdeQXVyNzkwMjQ5NzM@._V1_SX300.jpg\n",
      "<Response [200]>\n"
     ]
    },
    {
     "data": {
      "image/jpeg": "[encoded data removed]",
      "text/plain": [
       "<IPython.core.display.Image object>"
      ]
     },
     "metadata": {},
     "output_type": "display_data"
    }
   ],
   "source": [
    "print(data[\"Poster\"])\n",
    "x_url=data[\"Poster\"]\n",
    "response = requests.get(x_url)\n",
    "pprint(response)\n",
    "\n",
    "display(Image(url=x_url, embed=True))\n",
    "#img=mpimg.imread(response)\n",
    "#imgplot = plt.imshow(img)\n",
    "#plt.show()"
   ]
  },
  {
   "cell_type": "code",
   "execution_count": null,
   "metadata": {},
   "outputs": [],
   "source": []
  }
 ],
 "metadata": {
  "kernelspec": {
   "display_name": "Python 3",
   "language": "python",
   "name": "python3"
  },
  "language_info": {
   "codemirror_mode": {
    "name": "ipython",
    "version": 3
   },
   "file_extension": ".py",
   "mimetype": "text/x-python",
   "name": "python",
   "nbconvert_exporter": "python",
   "pygments_lexer": "ipython3",
   "version": "3.7.0"
  },
  "varInspector": {
   "cols": {
    "lenName": 16,
    "lenType": 16,
    "lenVar": 40
   },
   "kernels_config": {
    "python": {
     "delete_cmd_postfix": "",
     "delete_cmd_prefix": "del ",
     "library": "var_list.py",
     "varRefreshCmd": "print(var_dic_list())"
    },
    "r": {
     "delete_cmd_postfix": ") ",
     "delete_cmd_prefix": "rm(",
     "library": "var_list.r",
     "varRefreshCmd": "cat(var_dic_list()) "
    }
   },
   "types_to_exclude": [
    "module",
    "function",
    "builtin_function_or_method",
    "instance",
    "_Feature"
   ],
   "window_display": false
  }
 },
 "nbformat": 4,
 "nbformat_minor": 2
}
